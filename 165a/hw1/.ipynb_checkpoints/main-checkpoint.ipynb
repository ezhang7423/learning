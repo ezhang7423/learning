{
 "cells": [
  {
   "cell_type": "code",
   "execution_count": 1,
   "metadata": {},
   "outputs": [],
   "source": [
    "import numpy as np"
   ]
  },
  {
   "cell_type": "code",
   "execution_count": 9,
   "metadata": {},
   "outputs": [],
   "source": [
    "A = np.arange(1, 21).reshape(5, 4)\n",
    "B = np.arange(1, 13).reshape(4, 3)"
   ]
  },
  {
   "cell_type": "code",
   "execution_count": 11,
   "metadata": {},
   "outputs": [
    {
     "name": "stdout",
     "output_type": "stream",
     "text": [
      "[[ 1  2  3  4]\n",
      " [ 5  6  7  8]\n",
      " [ 9 10 11 12]\n",
      " [13 14 15 16]\n",
      " [17 18 19 20]]\n",
      "[[ 1  2  3]\n",
      " [ 4  5  6]\n",
      " [ 7  8  9]\n",
      " [10 11 12]]\n",
      "[[ 70  80  90]\n",
      " [158 184 210]\n",
      " [246 288 330]\n",
      " [334 392 450]\n",
      " [422 496 570]]\n"
     ]
    }
   ],
   "source": [
    "print(A)\n",
    "print(B)\n",
    "print(np.matmul(A, B))"
   ]
  },
  {
   "cell_type": "markdown",
   "metadata": {},
   "source": [
    " (Sparse matrix-vector multiplication) What is the worst case time complexity (in Big O\n",
    "notation) of multiplying a matrix A of dimension R n×n with a dense vector v ∈ R n ? What\n",
    "if matrix A is sparse, denote the number of non-zero elements by nnz(A)? Write a python\n",
    "function that takes a nonnegative integer n and outputs a sparse matrix A of size n − 1 × n,\n",
    "such that for any x ∈ R n , Ax = [x 1 −x 2 ,...,x n−1 −x n ] T . Write a script that calls this function\n",
    "and print the resulting A for n = 5. (Make sure you use the sparse matrix library in python\n",
    "is scipy.sparse.)"
   ]
  },
  {
   "cell_type": "code",
   "execution_count": 26,
   "metadata": {},
   "outputs": [],
   "source": [
    "n = 5\n",
    "sparseMatrix = spareConstructor(np.zeros((n-1, n)))"
   ]
  },
  {
   "cell_type": "code",
   "execution_count": 27,
   "metadata": {},
   "outputs": [],
   "source": [
    "def spareConstructor(sMatrix):\n",
    "    maX = sMatrix.shape[0]\n",
    "    maY = sMatrix.shape[1]\n",
    "    for x in range(maX):\n",
    "        sMatrix[x][x] = 1\n",
    "        sMatrix[x][x+1] = -1\n",
    "    return sMatrix\n"
   ]
  },
  {
   "cell_type": "code",
   "execution_count": 28,
   "metadata": {},
   "outputs": [
    {
     "name": "stdout",
     "output_type": "stream",
     "text": [
      "[[ 1. -1.  0.  0.  0.]\n",
      " [ 0.  1. -1.  0.  0.]\n",
      " [ 0.  0.  1. -1.  0.]\n",
      " [ 0.  0.  0.  1. -1.]]\n"
     ]
    }
   ],
   "source": [
    "print(sparseMatrix)"
   ]
  },
  {
   "cell_type": "markdown",
   "metadata": {},
   "source": [
    "Question 4"
   ]
  },
  {
   "cell_type": "code",
   "execution_count": 29,
   "metadata": {},
   "outputs": [],
   "source": [
    "def fac(n):\n",
    "    if n == 1:\n",
    "        return 1\n",
    "    return n * fac(n -1)"
   ]
  },
  {
   "cell_type": "code",
   "execution_count": 30,
   "metadata": {},
   "outputs": [
    {
     "data": {
      "text/plain": [
       "120"
      ]
     },
     "execution_count": 30,
     "metadata": {},
     "output_type": "execute_result"
    }
   ],
   "source": [
    "fac(5)"
   ]
  },
  {
   "cell_type": "markdown",
   "metadata": {},
   "source": [
    "Question 3"
   ]
  },
  {
   "cell_type": "code",
   "execution_count": 57,
   "metadata": {},
   "outputs": [],
   "source": [
    "with open('training.txt', 'r') as data:\n",
    "    lines = data.read().splitlines() "
   ]
  },
  {
   "cell_type": "code",
   "execution_count": 58,
   "metadata": {},
   "outputs": [],
   "source": [
    "#idea: use hashtable to store occurences of words, and build a priority queue of sorts using list to maintain top 20"
   ]
  },
  {
   "cell_type": "code",
   "execution_count": 101,
   "metadata": {},
   "outputs": [],
   "source": [
    "occurences = {}\n",
    "top20 = [('buffer', 0) for x in range(20)]\n",
    "for x in range(len(lines)):\n",
    "    currentLine = lines[x].split(' ')\n",
    "    for y in range(len(currentLine)):\n",
    "        try:\n",
    "            occurences[currentLine[y]] += 1\n",
    "            if occurences[currentLine[y]] > top20[19][1] and not (currentLine[y], occurences[currentLine[y]] - 1) in top20:\n",
    "\n",
    "                top20[19] = (currentLine[y], occurences[currentLine[y]])\n",
    "                top20.sort(reverse = True, key=lambda el: el[1])\n",
    "                \n",
    "        except KeyError: \n",
    "            occurences[currentLine[y]] = 1\n",
    "            if occurences[currentLine[y]] > top20[19][1]:\n",
    "                top20[19] = (currentLine[y], occurences[currentLine[y]])\n",
    "                top20.sort(reverse = True, key=lambda el: el[1])\n",
    "    "
   ]
  },
  {
   "cell_type": "code",
   "execution_count": 102,
   "metadata": {},
   "outputs": [
    {
     "name": "stdout",
     "output_type": "stream",
     "text": [
      "[('the', 190806), ('the', 190805), ('the', 190804), ('the', 190803), ('the', 190802), ('the', 190801), ('the', 190800), ('the', 190799), ('the', 190798), ('the', 190797), ('the', 190796), ('the', 190795), ('the', 190794), ('the', 190793), ('the', 190792), ('the', 190791), ('the', 190790), ('the', 190789), ('the', 190788), ('the', 190787)]\n"
     ]
    }
   ],
   "source": [
    "print(top20)"
   ]
  },
  {
   "cell_type": "code",
   "execution_count": 97,
   "metadata": {},
   "outputs": [
    {
     "data": {
      "text/plain": [
       "False"
      ]
     },
     "execution_count": 97,
     "metadata": {},
     "output_type": "execute_result"
    }
   ],
   "source": [
    "True and False"
   ]
  },
  {
   "cell_type": "code",
   "execution_count": null,
   "metadata": {},
   "outputs": [],
   "source": []
  }
 ],
 "metadata": {
  "kernelspec": {
   "display_name": "Python 3",
   "language": "python",
   "name": "python3"
  },
  "language_info": {
   "name": ""
  }
 },
 "nbformat": 4,
 "nbformat_minor": 4
}
