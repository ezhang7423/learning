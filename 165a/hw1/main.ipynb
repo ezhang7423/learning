{
 "cells": [
  {
   "cell_type": "code",
   "execution_count": 1,
   "metadata": {},
   "outputs": [],
   "source": [
    "import numpy as np"
   ]
  },
  {
   "cell_type": "code",
   "execution_count": 9,
   "metadata": {},
   "outputs": [],
   "source": [
    "A = np.arange(1, 21).reshape(5, 4)\n",
    "B = np.arange(1, 13).reshape(4, 3)"
   ]
  },
  {
   "cell_type": "code",
   "execution_count": 11,
   "metadata": {},
   "outputs": [
    {
     "name": "stdout",
     "output_type": "stream",
     "text": [
      "[[ 1  2  3  4]\n",
      " [ 5  6  7  8]\n",
      " [ 9 10 11 12]\n",
      " [13 14 15 16]\n",
      " [17 18 19 20]]\n",
      "[[ 1  2  3]\n",
      " [ 4  5  6]\n",
      " [ 7  8  9]\n",
      " [10 11 12]]\n",
      "[[ 70  80  90]\n",
      " [158 184 210]\n",
      " [246 288 330]\n",
      " [334 392 450]\n",
      " [422 496 570]]\n"
     ]
    }
   ],
   "source": [
    "print(A)\n",
    "print(B)\n",
    "print(np.matmul(A, B))"
   ]
  },
  {
   "cell_type": "markdown",
   "metadata": {},
   "source": [
    " (Sparse matrix-vector multiplication) What is the worst case time complexity (in Big O\n",
    "notation) of multiplying a matrix A of dimension R n×n with a dense vector v ∈ R n ? What\n",
    "if matrix A is sparse, denote the number of non-zero elements by nnz(A)? Write a python\n",
    "function that takes a nonnegative integer n and outputs a sparse matrix A of size n − 1 × n,\n",
    "such that for any x ∈ R n , Ax = [x 1 −x 2 ,...,x n−1 −x n ] T . Write a script that calls this function\n",
    "and print the resulting A for n = 5. (Make sure you use the sparse matrix library in python\n",
    "is scipy.sparse.)"
   ]
  },
  {
   "cell_type": "code",
   "execution_count": 26,
   "metadata": {},
   "outputs": [],
   "source": [
    "n = 5\n",
    "sparseMatrix = spareConstructor(np.zeros((n-1, n)))"
   ]
  },
  {
   "cell_type": "code",
   "execution_count": 27,
   "metadata": {},
   "outputs": [],
   "source": [
    "def spareConstructor(sMatrix):\n",
    "    maX = sMatrix.shape[0]\n",
    "    maY = sMatrix.shape[1]\n",
    "    for x in range(maX):\n",
    "        sMatrix[x][x] = 1\n",
    "        sMatrix[x][x+1] = -1\n",
    "    return sMatrix\n"
   ]
  },
  {
   "cell_type": "code",
   "execution_count": 28,
   "metadata": {},
   "outputs": [
    {
     "name": "stdout",
     "output_type": "stream",
     "text": [
      "[[ 1. -1.  0.  0.  0.]\n",
      " [ 0.  1. -1.  0.  0.]\n",
      " [ 0.  0.  1. -1.  0.]\n",
      " [ 0.  0.  0.  1. -1.]]\n"
     ]
    }
   ],
   "source": [
    "print(sparseMatrix)"
   ]
  },
  {
   "cell_type": "markdown",
   "metadata": {},
   "source": [
    "Question 4"
   ]
  },
  {
   "cell_type": "code",
   "execution_count": 29,
   "metadata": {},
   "outputs": [],
   "source": [
    "def fac(n):\n",
    "    if n == 1:\n",
    "        return 1\n",
    "    return n * fac(n -1)"
   ]
  },
  {
   "cell_type": "code",
   "execution_count": 30,
   "metadata": {},
   "outputs": [
    {
     "data": {
      "text/plain": [
       "120"
      ]
     },
     "execution_count": 30,
     "metadata": {},
     "output_type": "execute_result"
    }
   ],
   "source": [
    "fac(5)"
   ]
  },
  {
   "cell_type": "markdown",
   "metadata": {},
   "source": [
    "Question 3"
   ]
  },
  {
   "cell_type": "code",
   "execution_count": 57,
   "metadata": {},
   "outputs": [],
   "source": [
    "with open('training.txt', 'r') as data:\n",
    "    lines = data.read().splitlines() "
   ]
  },
  {
   "cell_type": "code",
   "execution_count": 58,
   "metadata": {},
   "outputs": [],
   "source": [
    "#idea: use hashtable to store occurences of words, and build a priority queue of sorts using list to maintain top 20"
   ]
  },
  {
   "cell_type": "code",
   "execution_count": 105,
   "metadata": {},
   "outputs": [],
   "source": [
    "occurences = {}\n",
    "top20 = [('buffer', 0) for x in range(20)]\n",
    "for x in range(len(lines)):\n",
    "    currentLine = lines[x].split(' ')\n",
    "    for y in range(len(currentLine)):\n",
    "        try:\n",
    "            occurences[currentLine[y]] += 1\n",
    "            if occurences[currentLine[y]] > top20[19][1]:\n",
    "                inn = False\n",
    "                for x in range(20):\n",
    "                    if top20[x][0] == currentLine[y]:\n",
    "                        top20[x] = (top20[x][0], top20[x][1] + 1)\n",
    "                        inn = True\n",
    "                        break\n",
    "                if (not inn):\n",
    "                    top20[19] = (currentLine[y], occurences[currentLine[y]])\n",
    "                    top20.sort(reverse = True, key=lambda el: el[1])\n",
    "        except KeyError: \n",
    "            occurences[currentLine[y]] = 1\n",
    "            if occurences[currentLine[y]] > top20[19][1]:\n",
    "                top20[19] = (currentLine[y], occurences[currentLine[y]])\n",
    "                top20.sort(reverse = True, key=lambda el: el[1])\n",
    "    "
   ]
  },
  {
   "cell_type": "code",
   "execution_count": 111,
   "metadata": {},
   "outputs": [
    {
     "name": "stdout",
     "output_type": "stream",
     "text": [
      "('the', 190806)\n",
      "('of', 116447)\n",
      "('and', 102422)\n",
      "('to', 89251)\n",
      "('a', 72558)\n",
      "('in', 56026)\n",
      "('i', 45308)\n",
      "('that', 39378)\n",
      "('he', 38160)\n",
      "('it', 34361)\n",
      "('was', 33834)\n",
      "('his', 28771)\n",
      "('â', 28051)\n",
      "('with', 25151)\n",
      "('as', 25032)\n",
      "('for', 23788)\n",
      "('you', 2666)\n",
      "('is', 817)\n",
      "('had', 538)\n",
      "('her', 404)\n"
     ]
    }
   ],
   "source": [
    "\n",
    "top20.sort(reverse = True, key=lambda el: el[1])\n",
    "for x in range(20):\n",
    "    print(top20[x])"
   ]
  },
  {
   "cell_type": "code",
   "execution_count": 112,
   "metadata": {},
   "outputs": [
    {
     "data": {
      "text/plain": [
       "'the main another curious and picturesque series of wall gardens are made by thin streams that slowly from and slip gently over smooth slopes from of sand and mud they carry a pair of sheets of soil an inch or two thick are formed one of them hanging down from the brow of the slope the other leaning up our national from the foot of it like and the soil being held together by the moisture plants growing in it along the rocky parts of the between lake where the streams flow fast over polished granite there are rows of gardens full of and other common plants of the neighborhood nicely arranged like and out in telling on the bare shining rock banks and au the way up the to the summit mountains wherever there is soil of any sort there is no lack of flowers however short the summer may be within eight or ten feet of a snow bank lingering beneath a shadow you may see their in september and hurrying up their brown on ground that has been free from snow only eight or ten days and likely to be covered again within a few weeks the winter in the of these shadow gardens being about eleven months long while spring summer and autumn are hurried and crowded into one month again under favorable conditions gardens three or four thousand feet higher than the last are in then prime in june between the summit peaks at the head of the sur effects are produced where the sunshine falls direct on rocky slopes and among toward the end of august in wild of the park one of these natural on the north shore of a lake feet above the sea i found a luxuriant growth of hairy and the mountain with thousands of purple flowers an inch wide while the opposite shore at a distance of only three hundred yards was bound in heavy snow â on one â de winter on the other and i know a bench garden on the north wall of in which a few flowers are in bloom all winter the massive rocks about it up sunshine enough in summer to melt the snow about as fast as it falls when tired of the confinement of my cabin i used to camp out in it in january and never failed to find flowers and also except during and a few days after from one can easily walk in a day to the top of mount a massive nay mountain tiiat rises in the centre of the park with easy slopes adorned with piles and on the south side rugged with perpetual snow on the north most of the broad summit is comparatively level and smooth and covered with of tour etc out and strewn loosely as if sown their radiance so in some places as to fairly hide the multitude of c our national small flowers that grow among them of keen lance rays infinitely fine white or colored making an almost continuous glow over all the ground with here and there throbbing lilies of on the larger gems at first sight only these crystal are noticed but looking closely you discover minute g etc in thousands showing more than leaves and larger plants in hollows and on the borders of â mountain fringed with you wander about from s to s enchanted â if talking b thâ the brightest gems each and all apparently doing their best with eager enthusiasm as if everything depended on faithful shining and considering the flowers in the glorious light many of them looking like of small and that were resting after long dances in the now your attention is called to colonies of and the in front of their glittering like heaps of â romantic ground to live in or die in now you look abroad over the vast round landscape bounded by the down sky nearly all the park in it displayed like a map â forests meadows lakes rock waves and snowy mountains northward lies the basin of creek paved with bright and lakes like larger wild gardens of the park eastward the region and the summit peaks in glorious array southward and westward the boundless forests on no other mountain that i know of are you more likely to linger it is a magnificent camp ground of dwarf pine furnish roots and branches for fuel and the pure water around your camp fire the flowers seem to be looking eagerly at the and the shine making company as you ke at rest in the y ry heart of the vast serene majestic night the finest of the meadow gardens lie at an elevation of about nine thousand feet in the upper pine forests like lakes of light they are smooth and level a mile or two long and the rich well drained ground is completely covered with a soft sod with flowers not one of which is in the least or coarse in some places the sod is so crowded with flowers that the are scarce noticed in others they are rather scattered while every leaf and flower seems to have its winged representative in the of happy flower like insects that the air above them with the winter wings and are folded and for more than half the year the meadows are snow ten or fifteen deep in june they begin to out small patches of our national the dead sod appear gradually increasing in size until they are free and warm a fain face to face ma the sky of push through the steaming mould sing soon joined by the birds and the merry insects come back as if suddenly raised from the dead soon t e ground is een th and and dotted with small making the first crop of the season then the grass leaves a new sod and the exceedingly slender rise above it like a purple mist ,13'"
      ]
     },
     "execution_count": 112,
     "metadata": {},
     "output_type": "execute_result"
    }
   ],
   "source": [
    "lines[0]"
   ]
  },
  {
   "cell_type": "code",
   "execution_count": null,
   "metadata": {},
   "outputs": [],
   "source": []
  }
 ],
 "metadata": {
  "kernelspec": {
   "display_name": "Python 3",
   "language": "python",
   "name": "python3"
  },
  "language_info": {
   "name": ""
  }
 },
 "nbformat": 4,
 "nbformat_minor": 4
}
